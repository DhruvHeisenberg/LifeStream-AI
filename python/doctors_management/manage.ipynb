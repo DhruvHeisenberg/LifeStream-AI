{
 "cells": [
  {
   "cell_type": "code",
   "execution_count": 1,
   "metadata": {},
   "outputs": [],
   "source": [
    "import pandas as pd\n",
    "import random\n",
    "\n",
    "# Define the number of hospitals and the range of values for each feature\n",
    "num_hospitals = 10\n",
    "num_doctors_range = (5, 20)\n",
    "num_patients_range = (50, 200)\n",
    "\n",
    "# Create a dictionary to store the hospital data\n",
    "data_dict = {\n",
    "    'hospital_id': [],\n",
    "    'num_doctors': [],\n",
    "    'num_patients': []\n",
    "}\n",
    "\n",
    "# Generate random data for each hospital\n",
    "for i in range(num_hospitals):\n",
    "    data_dict['hospital_id'].append(i)\n",
    "    data_dict['num_doctors'].append(random.randint(\n",
    "        num_doctors_range[0], num_doctors_range[1]))\n",
    "    data_dict['num_patients'].append(random.randint(\n",
    "        num_patients_range[0], num_patients_range[1]))\n",
    "\n",
    "# Convert the dictionary to a Pandas DataFrame and save it to a CSV file\n",
    "data = pd.DataFrame(data_dict)\n",
    "data.to_csv('hospital_data.csv', index=False)\n"
   ]
  },
  {
   "cell_type": "code",
   "execution_count": 1,
   "metadata": {},
   "outputs": [
    {
     "name": "stdout",
     "output_type": "stream",
     "text": [
      "The doctor should be assigned to hospital 4\n"
     ]
    },
    {
     "name": "stderr",
     "output_type": "stream",
     "text": [
      "c:\\Python311\\Lib\\site-packages\\sklearn\\base.py:420: UserWarning: X does not have valid feature names, but LinearRegression was fitted with feature names\n",
      "  warnings.warn(\n"
     ]
    }
   ],
   "source": [
    "import pandas as pd\n",
    "from sklearn.linear_model import LinearRegression\n",
    "\n",
    "# Load the hospital data from the CSV file\n",
    "data = pd.read_csv('hospital_data.csv')\n",
    "\n",
    "# Feature Engineering\n",
    "data['patient_doctor_ratio'] = data['num_patients'] / data['num_doctors']\n",
    "\n",
    "# Model Training\n",
    "X = data[['num_doctors', 'patient_doctor_ratio']]\n",
    "y = data['hospital_id']\n",
    "\n",
    "model = LinearRegression()\n",
    "model.fit(X, y)\n",
    "\n",
    "# Assign a doctor to a new hospital based on its data\n",
    "new_hospital_data = {\n",
    "    'num_doctors': 8,\n",
    "    'num_patients': 120\n",
    "}\n",
    "\n",
    "patient_doctor_ratio = new_hospital_data['num_patients'] / \\\n",
    "    new_hospital_data['num_doctors']\n",
    "x = [[new_hospital_data['num_doctors'], patient_doctor_ratio]]\n",
    "predicted_hospital_id = int(model.predict(x)[0])\n",
    "\n",
    "print(f\"The doctor should be assigned to hospital {predicted_hospital_id}\")\n"
   ]
  }
 ],
 "metadata": {
  "kernelspec": {
   "display_name": "Python 3",
   "language": "python",
   "name": "python3"
  },
  "language_info": {
   "codemirror_mode": {
    "name": "ipython",
    "version": 3
   },
   "file_extension": ".py",
   "mimetype": "text/x-python",
   "name": "python",
   "nbconvert_exporter": "python",
   "pygments_lexer": "ipython3",
   "version": "3.11.2"
  },
  "orig_nbformat": 4,
  "vscode": {
   "interpreter": {
    "hash": "c261aea317cc0286b3b3261fbba9abdec21eaa57589985bb7a274bf54d6cc0a7"
   }
  }
 },
 "nbformat": 4,
 "nbformat_minor": 2
}
