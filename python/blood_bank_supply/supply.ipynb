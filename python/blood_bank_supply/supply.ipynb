{
 "cells": [
  {
   "cell_type": "code",
   "execution_count": null,
   "metadata": {},
   "outputs": [],
   "source": []
  }
 ],
 "metadata": {
  "kernelspec": {
   "display_name": "Python 3",
   "language": "python",
   "name": "python3"
  },
  "language_info": {
   "name": "python",
   "version": "3.9.13"
  },
  "orig_nbformat": 4,
  "vscode": {
   "interpreter": {
    "hash": "ae9262ea325f31ac6ffc075d805194cf5f82e7f187ca2262ded8865f08211d78"
   }
  }
 },
 "nbformat": 4,
 "nbformat_minor": 2
}
