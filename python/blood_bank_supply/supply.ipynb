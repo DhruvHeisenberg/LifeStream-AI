{
 "cells": [
  {
   "cell_type": "code",
   "execution_count": null,
   "metadata": {
    "vscode": {
     "languageId": "plaintext"
    }
   },
   "outputs": [],
   "source": [
    "import pandas as pd\n",
    "import numpy as np\n",
    "\n",
    "# Generating random data for blood group stock in different cities\n",
    "cities = ['City A', 'City B', 'City C', 'City D', 'City E']\n",
    "blood_groups = ['A+', 'A-', 'B+', 'B-', 'O+', 'O-', 'AB+', 'AB-']\n",
    "data = pd.DataFrame(np.random.randint(0, 100, size=(5, 8)), columns=blood_groups, index=cities)\n",
    "\n",
    "# Saving the data to a CSV file\n",
    "data.to_csv('blood_stock.csv', index_label='City')\n"
   ]
  },
  {
   "cell_type": "code",
   "execution_count": null,
   "metadata": {
    "vscode": {
     "languageId": "plaintext"
    }
   },
   "outputs": [],
   "source": [
    "# Importing necessary libraries\n",
    "import pandas as pd\n",
    "from sklearn.model_selection import train_test_split\n",
    "from sklearn.linear_model import LinearRegression\n",
    "import joblib\n",
    "\n",
    "# Loading data into a Pandas DataFrame\n",
    "data = pd.read_csv('blood_stock.csv')\n",
    "\n",
    "# Separating features (cities) and target variable (blood group stock)\n",
    "X = data.drop('O-', axis=1)\n",
    "y = data['O-']\n",
    "\n",
    "# Splitting the data into training and testing sets\n",
    "X_train, X_test, y_train, y_test = train_test_split(X, y, test_size=0.2, random_state=42)\n",
    "\n",
    "# Training a linear regression model on the training set\n",
    "model = LinearRegression()\n",
    "model.fit(X_train, y_train)\n",
    "\n",
    "# Saving the trained model using joblib\n",
    "joblib.dump(model, 'blood_group_model.joblib')\n",
    "\n",
    "# Evaluating the model on the testing set\n",
    "score = model.score(X_test, y_test)\n",
    "print(f'Model score: {score}')\n"
   ]
  }
 ],
 "metadata": {
  "kernelspec": {
   "display_name": "Python 3",
   "language": "python",
   "name": "python3"
  },
  "language_info": {
   "name": "python",
   "version": "3.9.13"
  },
  "orig_nbformat": 4,
  "vscode": {
   "interpreter": {
    "hash": "ae9262ea325f31ac6ffc075d805194cf5f82e7f187ca2262ded8865f08211d78"
   }
  }
 },
 "nbformat": 4,
 "nbformat_minor": 2
}
