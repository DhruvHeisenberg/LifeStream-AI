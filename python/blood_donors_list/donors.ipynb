{
 "cells": [
  {
   "cell_type": "code",
   "execution_count": 12,
   "metadata": {},
   "outputs": [],
   "source": [
    "import random\n",
    "import csv\n",
    "\n",
    "# Define parameters for generating data\n",
    "num_samples = 5000\n",
    "age_min = 18\n",
    "age_max = 55\n",
    "sex_list = ['Male', 'Female']\n",
    "donation_min = 0\n",
    "donation_max = 7\n",
    "\n",
    "# Generate data\n",
    "data = []\n",
    "for i in range(num_samples):\n",
    "    age = random.randint(age_min, age_max)\n",
    "    sex = random.choice(sex_list)\n",
    "    donation = random.randint(donation_min, donation_max)\n",
    "    blood_donor = random.randint(0, 1)\n",
    "    data.append([age, sex, donation, blood_donor])\n",
    "\n",
    "# Write data to file\n",
    "with open('blood_donors.csv', mode='w', newline='') as file:\n",
    "    writer = csv.writer(file)\n",
    "    writer.writerow(\n",
    "        ['Age', 'Sex', 'Months since Last Donation', 'Blood Donor'])\n",
    "    writer.writerows(data)\n"
   ]
  },
  {
   "cell_type": "code",
   "execution_count": 1,
   "metadata": {},
   "outputs": [
    {
     "name": "stdout",
     "output_type": "stream",
     "text": [
      "Accuracy: 0.51\n"
     ]
    }
   ],
   "source": [
    "import pandas as pd\n",
    "from sklearn.linear_model import LogisticRegression\n",
    "from sklearn.model_selection import train_test_split\n",
    "import joblib\n",
    "\n",
    "# Loading the dataset\n",
    "df = pd.read_csv('blood_donors.csv')\n",
    "\n",
    "# Convert 'Sex' column to binary indicator variable\n",
    "df['Sex'] = pd.get_dummies(df['Sex'], drop_first=True)\n",
    "\n",
    "# Defining features and target variable\n",
    "X = df[['Age', 'Sex', 'Months since Last Donation']]\n",
    "y = df['Blood Donor']\n",
    "\n",
    "# Splitting the dataset into training and testing sets\n",
    "X_train, X_test, y_train, y_test = train_test_split(\n",
    "    X, y, test_size=0.3, random_state=42)\n",
    "\n",
    "# Creating and training the logistic regression model\n",
    "model = LogisticRegression()\n",
    "model.fit(X_train, y_train)\n",
    "\n",
    "# Saving the trained model to a file\n",
    "filename = 'blood_donors_model.sav'\n",
    "joblib.dump(model, filename)\n",
    "\n",
    "# Predicting the target variable for the test set\n",
    "y_pred = model.predict(X_test)\n",
    "\n",
    "# Evaluating the performance of the model\n",
    "score = model.score(X_test, y_test)\n",
    "print(f\"Accuracy: {score:.2f}\")\n"
   ]
  },
  {
   "cell_type": "code",
   "execution_count": 5,
   "metadata": {},
   "outputs": [
    {
     "name": "stdout",
     "output_type": "stream",
     "text": [
      "[1]\n"
     ]
    }
   ],
   "source": [
    "import joblib\n",
    "from sklearn.model_selection import train_test_split\n",
    "from sklearn.linear_model import LogisticRegression\n",
    "import pandas as pd\n",
    "filename = 'blood_donors_model.sav'\n",
    "joblib.dump(model, filename)\n",
    "\n",
    "# Loading the saved model from file\n",
    "loaded_model = joblib.load(filename)\n",
    "\n",
    "# Making predictions on new data\n",
    "new_data = pd.DataFrame({'Age': [37],\n",
    "                         'Sex': [0],\n",
    "                         'Months since Last Donation': [9]})\n",
    "predictions = loaded_model.predict(new_data)\n",
    "print(predictions)\n"
   ]
  }
 ],
 "metadata": {
  "kernelspec": {
   "display_name": "Python 3",
   "language": "python",
   "name": "python3"
  },
  "language_info": {
   "codemirror_mode": {
    "name": "ipython",
    "version": 3
   },
   "file_extension": ".py",
   "mimetype": "text/x-python",
   "name": "python",
   "nbconvert_exporter": "python",
   "pygments_lexer": "ipython3",
   "version": "3.11.2"
  },
  "orig_nbformat": 4,
  "vscode": {
   "interpreter": {
    "hash": "c261aea317cc0286b3b3261fbba9abdec21eaa57589985bb7a274bf54d6cc0a7"
   }
  }
 },
 "nbformat": 4,
 "nbformat_minor": 2
}
