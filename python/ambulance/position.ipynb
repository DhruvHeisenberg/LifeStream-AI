{
 "cells": [
  {
   "cell_type": "code",
   "execution_count": 1,
   "metadata": {},
   "outputs": [],
   "source": [
    "import random\n",
    "import csv\n",
    "\n",
    "# Define the latitude and longitude coordinates of Lucknow, Uttar Pradesh\n",
    "Lucknow_lat = 30.3398\n",
    "Lucknow_lon = 76.3869\n",
    "\n",
    "# Generate random accident and ambulance locations within Lucknow\n",
    "num_samples = 1000 # number of samples to generate\n",
    "accident_locations = []\n",
    "ambulance_locations = []\n",
    "\n",
    "for i in range(num_samples):\n",
    "    # Generate a random offset from the center of Lucknow\n",
    "    lat_offset = random.uniform(-0.05, 0.05)\n",
    "    lon_offset = random.uniform(-0.05, 0.05)\n",
    "    \n",
    "    # Calculate the latitude and longitude of the accident location\n",
    "    accident_lat = Lucknow_lat + lat_offset\n",
    "    accident_lon = Lucknow_lon + lon_offset\n",
    "    \n",
    "    # Generate a random offset from the accident location for the ambulance location\n",
    "    ambulance_lat_offset = random.uniform(-0.01, 0.01)\n",
    "    ambulance_lon_offset = random.uniform(-0.01, 0.01)\n",
    "    \n",
    "    # Calculate the latitude and longitude of the ambulance location\n",
    "    ambulance_lat = accident_lat + ambulance_lat_offset\n",
    "    ambulance_lon = accident_lon + ambulance_lon_offset\n",
    "    \n",
    "    # Add the locations to the list\n",
    "    accident_locations.append([accident_lat, accident_lon])\n",
    "    ambulance_locations.append([ambulance_lat, ambulance_lon])\n",
    "\n",
    "# Write the locations to a CSV file\n",
    "with open('accident_data.csv', 'w', newline='') as csvfile:\n",
    "    writer = csv.writer(csvfile)\n",
    "    writer.writerow(['accident_latitude', 'accident_longitude', 'ambulance_latitude', 'ambulance_longitude'])\n",
    "    for i in range(num_samples):\n",
    "        writer.writerow([accident_locations[i][0], accident_locations[i][1], ambulance_locations[i][0], ambulance_locations[i][1]])\n"
   ]
  },
  {
   "cell_type": "code",
   "execution_count": 3,
   "metadata": {},
   "outputs": [
    {
     "name": "stdout",
     "output_type": "stream",
     "text": [
      "Accuracy: 96.35%\n",
      "Predicted ambulance locations: [[ 41.58116428 -73.74803351]]\n"
     ]
    },
    {
     "name": "stderr",
     "output_type": "stream",
     "text": [
      "c:\\Python311\\Lib\\site-packages\\sklearn\\base.py:420: UserWarning: X does not have valid feature names, but LinearRegression was fitted with feature names\n",
      "  warnings.warn(\n"
     ]
    }
   ],
   "source": [
    "import pandas as pd\n",
    "from sklearn.model_selection import train_test_split\n",
    "from sklearn.linear_model import LinearRegression\n",
    "\n",
    "# Load the dataset of previous accident locations and ambulance locations\n",
    "data = pd.read_csv('accident_data.csv')\n",
    "\n",
    "# Preprocess the dataset\n",
    "data.drop_duplicates(inplace=True) # remove duplicates\n",
    "data.dropna(inplace=True) # remove any missing data\n",
    "\n",
    "# Split the dataset into training and testing sets\n",
    "X = data[['accident_latitude', 'accident_longitude']] # input features\n",
    "y = data[['ambulance_latitude', 'ambulance_longitude']] # target variable\n",
    "X_train, X_test, y_train, y_test = train_test_split(X, y, test_size=0.2, random_state=42)\n",
    "\n",
    "# Train the AI model using Linear Regression\n",
    "model = LinearRegression()\n",
    "model.fit(X_train, y_train)\n",
    "\n",
    "# Evaluate the performance of the AI model using the testing set\n",
    "score = model.score(X_test, y_test)\n",
    "print(f\"Accuracy: {score*100:.2f}%\")\n",
    "\n",
    "# Use the AI model to predict the ambulance locations for a new accident location\n",
    "new_accident_location = [[40.7128, -74.0060]] # latitude and longitude of new accident location\n",
    "predicted_ambulance_locations = model.predict(new_accident_location)\n",
    "print(f\"Predicted ambulance locations: {predicted_ambulance_locations}\")\n"
   ]
  }
 ],
 "metadata": {
  "kernelspec": {
   "display_name": "Python 3",
   "language": "python",
   "name": "python3"
  },
  "language_info": {
   "codemirror_mode": {
    "name": "ipython",
    "version": 3
   },
   "file_extension": ".py",
   "mimetype": "text/x-python",
   "name": "python",
   "nbconvert_exporter": "python",
   "pygments_lexer": "ipython3",
   "version": "3.11.2"
  },
  "orig_nbformat": 4,
  "vscode": {
   "interpreter": {
    "hash": "c261aea317cc0286b3b3261fbba9abdec21eaa57589985bb7a274bf54d6cc0a7"
   }
  }
 },
 "nbformat": 4,
 "nbformat_minor": 2
}
