{
 "cells": [
  {
   "cell_type": "code",
   "execution_count": 2,
   "metadata": {},
   "outputs": [
    {
     "name": "stdout",
     "output_type": "stream",
     "text": [
      "Mean squared error: 0.00\n",
      "Coefficient of determination: 1.00\n"
     ]
    },
    {
     "data": {
      "text/plain": [
       "['blood_model.pkl']"
      ]
     },
     "execution_count": 2,
     "metadata": {},
     "output_type": "execute_result"
    }
   ],
   "source": [
    "# Import necessary libraries\n",
    "import pandas as pd\n",
    "import numpy as np\n",
    "from sklearn.linear_model import LinearRegression\n",
    "from sklearn.model_selection import train_test_split\n",
    "\n",
    "# Load data from CSV file\n",
    "data = pd.read_csv('blood_data.csv')\n",
    "\n",
    "# Split data into input (X) and output (y) variables\n",
    "X = data[['A+', 'A-', 'B+', 'B-', 'AB+', 'AB-', 'O+', 'O-']]\n",
    "y = data['Minimum Requirement']\n",
    "\n",
    "# Split data into training and testing sets\n",
    "X_train, X_test, y_train, y_test = train_test_split(X, y, test_size=0.2, random_state=42)\n",
    "\n",
    "# Train linear regression model\n",
    "model = LinearRegression()\n",
    "model.fit(X_train, y_train)\n",
    "\n",
    "# Make predictions on test data\n",
    "y_pred = model.predict(X_test)\n",
    "\n",
    "# Evaluate model performance\n",
    "from sklearn.metrics import mean_squared_error, r2_score\n",
    "print('Mean squared error: %.2f' % mean_squared_error(y_test, y_pred))\n",
    "print('Coefficient of determination: %.2f' % r2_score(y_test, y_pred))\n",
    "\n",
    "# Save trained model for future use\n",
    "import joblib\n",
    "joblib.dump(model, 'blood_model.pkl')"
   ]
  },
  {
   "cell_type": "code",
   "execution_count": 1,
   "metadata": {},
   "outputs": [],
   "source": [
    "import random\n",
    "import csv\n",
    "\n",
    "# Define parameters for generating sample data\n",
    "num_samples = 1000\n",
    "num_people = [random.randint(0, 100) for _ in range(8)]\n",
    "min_requirement = [random.randint(0, 100) for _ in range(8)]\n",
    "\n",
    "# Generate sample data and write to CSV file\n",
    "with open('blood_data.csv', 'w', newline='') as csvfile:\n",
    "    fieldnames = ['A+', 'A-', 'B+', 'B-', 'AB+', 'AB-', 'O+', 'O-', 'Minimum Requirement']\n",
    "    writer = csv.DictWriter(csvfile, fieldnames=fieldnames)\n",
    "    writer.writeheader()\n",
    "    for i in range(num_samples):\n",
    "        # Generate random number of people with each blood group\n",
    "        a_pos = random.randint(0, num_people[0])\n",
    "        a_neg = random.randint(0, num_people[1])\n",
    "        b_pos = random.randint(0, num_people[2])\n",
    "        b_neg = random.randint(0, num_people[3])\n",
    "        ab_pos = random.randint(0, num_people[4])\n",
    "        ab_neg = random.randint(0, num_people[5])\n",
    "        o_pos = random.randint(0, num_people[6])\n",
    "        o_neg = random.randint(0, num_people[7])\n",
    "        \n",
    "        # Calculate minimum blood requirement based on random minimum requirements\n",
    "        total_requirement = (a_pos * min_requirement[0]) + (a_neg * min_requirement[1]) + \\\n",
    "                            (b_pos * min_requirement[2]) + (b_neg * min_requirement[3]) + \\\n",
    "                            (ab_pos * min_requirement[4]) + (ab_neg * min_requirement[5]) + \\\n",
    "                            (o_pos * min_requirement[6]) + (o_neg * min_requirement[7])\n",
    "        \n",
    "        # Write data to CSV file\n",
    "        writer.writerow({'A+': a_pos, 'A-': a_neg, 'B+': b_pos, 'B-': b_neg,\n",
    "                         'AB+': ab_pos, 'AB-': ab_neg, 'O+': o_pos, 'O-': o_neg,\n",
    "                         'Minimum Requirement': total_requirement})\n"
   ]
  }
 ],
 "metadata": {
  "kernelspec": {
   "display_name": "Python 3",
   "language": "python",
   "name": "python3"
  },
  "language_info": {
   "codemirror_mode": {
    "name": "ipython",
    "version": 3
   },
   "file_extension": ".py",
   "mimetype": "text/x-python",
   "name": "python",
   "nbconvert_exporter": "python",
   "pygments_lexer": "ipython3",
   "version": "3.11.2"
  },
  "orig_nbformat": 4,
  "vscode": {
   "interpreter": {
    "hash": "c261aea317cc0286b3b3261fbba9abdec21eaa57589985bb7a274bf54d6cc0a7"
   }
  }
 },
 "nbformat": 4,
 "nbformat_minor": 2
}
